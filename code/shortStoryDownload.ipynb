{
 "cells": [
  {
   "cell_type": "code",
   "execution_count": 56,
   "metadata": {},
   "outputs": [],
   "source": [
    "# get content of html and save as text\n",
    "import requests\n",
    "url = \"https://americanliterature.com/100-great-short-stories\"\n",
    "s = requests.get(url)\n",
    "t = s.text\n",
    "\n",
    "# find all line with tag 'a'\n",
    "from bs4 import BeautifulSoup\n",
    "soup = BeautifulSoup(t)\n",
    "head = soup.find_all('a')\n",
    "\n",
    "#get children website\n",
    "import re\n",
    "web = list()\n",
    "for i in head:\n",
    "    if re.search('<a href=\\\"/author/[a-zA-Z\\-]+/short\\-story/[a-zA-Z\\-]+\\\">[a-zA-Z\\ ]+</a>', str(i)):\n",
    "        web.append('https://americanliterature.com' + i.attrs['href'])\n"
   ]
  },
  {
   "cell_type": "code",
   "execution_count": 138,
   "metadata": {},
   "outputs": [],
   "source": [
    "#crawl short story from the websites\n",
    "for url in web:\n",
    "    try:\n",
    "        s = requests.get(url)\n",
    "        t = s.text\n",
    "        soup = BeautifulSoup(t)\n",
    "        title = soup.find('h1' , itemprop = 'name').get_text()\n",
    "        author = soup.find('a' , itemprop = 'author').string\n",
    "        with open('shortStory/' + title + '_' + author + '.txt' , 'w') as f:\n",
    "            f.write(title + '\\n\\n')\n",
    "            f.write(author + '\\n\\n')\n",
    "            for i in soup.find_all('p'):\n",
    "                f.write(i.get_text() + '\\n\\n')\n",
    "    except:\n",
    "        next"
   ]
  },
  {
   "cell_type": "code",
   "execution_count": 146,
   "metadata": {},
   "outputs": [],
   "source": [
    "# get content of html and save as text\n",
    "import requests\n",
    "url = 'https://www.theguardian.com/books/2015/aug/17/the-100-best-novels-written-in-english-the-full-list'\n",
    "s = requests.get(url)\n",
    "t = s.text\n",
    "\n",
    "# find all line with tag 'a'\n",
    "from bs4 import BeautifulSoup\n",
    "soup = BeautifulSoup(t)\n",
    "head = soup.find_all('a', attrs={\"data-link-name\": \"in body link\"})\n",
    "\n",
    "#get children website\n",
    "web = list()\n",
    "for i in head:\n",
    "    web.append(i.attrs['href'])\n"
   ]
  },
  {
   "cell_type": "code",
   "execution_count": 152,
   "metadata": {},
   "outputs": [],
   "source": [
    "for url in web:\n",
    "    try:\n",
    "        s = requests.get(url)\n",
    "        t = s.text\n",
    "        soup = BeautifulSoup(t)\n",
    "        l = soup.find('h1' , itemprop = 'headline').get_text()\n",
    "        a1 = l.find('–') + 2\n",
    "        a2 = l.find('by') - 1\n",
    "        a3 = a2 + 4\n",
    "        a4 = l.find('(')-1\n",
    "        title = l[a1:a2]\n",
    "        author = l[a3:a4]\n",
    "        with open('shortStory/' + title + '_' + author + '.txt' , 'w') as f:\n",
    "            f.write(title + '\\n\\n')\n",
    "            f.write(author + '\\n\\n')\n",
    "            for i in soup.find_all('p'):\n",
    "                f.write(i.get_text() + '\\n\\n')\n",
    "    except:\n",
    "        next"
   ]
  },
  {
   "cell_type": "code",
   "execution_count": 162,
   "metadata": {},
   "outputs": [],
   "source": [
    "# get content of html and save as text\n",
    "import requests\n",
    "url = 'https://americanliterature.com/civil-war-stories'\n",
    "s = requests.get(url)\n",
    "t = s.text\n",
    "\n",
    "# find all line with tag 'a'\n",
    "from bs4 import BeautifulSoup\n",
    "soup = BeautifulSoup(t)\n",
    "head = soup.find_all('a' , href = re.compile(\"/author/\"))\n",
    "\n",
    "#get children website\n",
    "web = list()\n",
    "for i in head:\n",
    "    web.append('https://americanliterature.com' + i.attrs['href'])"
   ]
  },
  {
   "cell_type": "code",
   "execution_count": 167,
   "metadata": {},
   "outputs": [],
   "source": [
    "for url in web[25:]:\n",
    "    try:\n",
    "        s = requests.get(url)\n",
    "        t = s.text\n",
    "        soup = BeautifulSoup(t)\n",
    "        title = soup.find('h1' , itemprop = 'name').get_text()\n",
    "        author = soup.find('a' , itemprop = 'author').string\n",
    "        with open('shortStory/' + title + '_' + author + '.txt' , 'w') as f:\n",
    "            f.write(title + '\\n\\n')\n",
    "            f.write(author + '\\n\\n')\n",
    "            for i in soup.find_all('p'):\n",
    "                f.write(i.get_text() + '\\n\\n')\n",
    "    except:\n",
    "        next"
   ]
  },
  {
   "cell_type": "code",
   "execution_count": 168,
   "metadata": {},
   "outputs": [],
   "source": [
    "# get content of html and save as text\n",
    "import requests\n",
    "url = 'https://americanliterature.com/mystery-stories'\n",
    "s = requests.get(url)\n",
    "t = s.text\n",
    "\n",
    "# find all line with tag 'a'\n",
    "from bs4 import BeautifulSoup\n",
    "soup = BeautifulSoup(t)\n",
    "head = soup.find_all('a' , href = re.compile(\"/author/\"))\n",
    "\n",
    "#get children website\n",
    "web = list()\n",
    "for i in head:\n",
    "    web.append('https://americanliterature.com' + i.attrs['href'])"
   ]
  },
  {
   "cell_type": "code",
   "execution_count": 170,
   "metadata": {},
   "outputs": [],
   "source": [
    "for url in web[-26:]:\n",
    "    try:\n",
    "        s = requests.get(url)\n",
    "        t = s.text\n",
    "        soup = BeautifulSoup(t)\n",
    "        title = soup.find('h1' , itemprop = 'name').get_text()\n",
    "        author = soup.find('a' , itemprop = 'author').string\n",
    "        with open('shortStory/' + title + '_' + author + '.txt' , 'w') as f:\n",
    "            f.write(title + '\\n\\n')\n",
    "            f.write(author + '\\n\\n')\n",
    "            for i in soup.find_all('p'):\n",
    "                f.write(i.get_text() + '\\n\\n')\n",
    "    except:\n",
    "        next"
   ]
  },
  {
   "cell_type": "code",
   "execution_count": null,
   "metadata": {},
   "outputs": [],
   "source": []
  }
 ],
 "metadata": {
  "kernelspec": {
   "display_name": "Python 3",
   "language": "python",
   "name": "python3"
  },
  "language_info": {
   "codemirror_mode": {
    "name": "ipython",
    "version": 3
   },
   "file_extension": ".py",
   "mimetype": "text/x-python",
   "name": "python",
   "nbconvert_exporter": "python",
   "pygments_lexer": "ipython3",
   "version": "3.6.8"
  }
 },
 "nbformat": 4,
 "nbformat_minor": 2
}
